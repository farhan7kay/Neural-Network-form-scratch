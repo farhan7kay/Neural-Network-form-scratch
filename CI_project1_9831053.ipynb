{
  "nbformat": 4,
  "nbformat_minor": 0,
  "metadata": {
    "colab": {
      "name": "Untitled0.ipynb",
      "provenance": []
    },
    "kernelspec": {
      "name": "python3",
      "display_name": "Python 3"
    },
    "language_info": {
      "name": "python"
    }
  },
  "cells": [
    {
      "cell_type": "code",
      "execution_count": 22,
      "metadata": {
        "colab": {
          "base_uri": "https://localhost:8080/"
        },
        "id": "5Xp6ONaOEtpR",
        "outputId": "7de361fe-b34d-4e00-cb30-35a4fb717607"
      },
      "outputs": [
        {
          "output_type": "stream",
          "name": "stdout",
          "text": [
            "/usr/local/lib/python3.7/dist-packages/gdown/cli.py:131: FutureWarning: Option `--id` was deprecated in version 4.3.1 and will be removed in 5.0. You don't need to pass it anymore to use a file ID.\n",
            "  category=FutureWarning,\n",
            "Downloading...\n",
            "From: https://drive.google.com/uc?id=1Y1vgzPvMeVcXSxDfOlCVia7wsU7p8M6g\n",
            "To: /content/CIFAR10.tar.gz\n",
            "100% 19.8M/19.8M [00:00<00:00, 196MB/s]\n"
          ]
        }
      ],
      "source": [
        "!gdown --id 1Y1vgzPvMeVcXSxDfOlCVia7wsU7p8M6g -O CIFAR10.tar.gz \n",
        "!tar xzf CIFAR10.tar.gz "
      ]
    },
    {
      "cell_type": "code",
      "source": [
        "from tensorflow import keras\n",
        "import tensorflow as tf\n",
        "from keras import datasets, layers, losses, utils\n",
        "import numpy as np\n",
        "from keras.utils import np_utils\n",
        "import matplotlib.pyplot as plt\n",
        "import matplotlib.image as img\n",
        "from sklearn.preprocessing import OneHotEncoder\n",
        "from datetime import datetime"
      ],
      "metadata": {
        "id": "6FtCMrxqF-lp"
      },
      "execution_count": 69,
      "outputs": []
    },
    {
      "cell_type": "code",
      "source": [
        "(train_images, train_labels), (test_images, test_labels) = keras.datasets.cifar10.load_data()\n",
        "train_images = train_images[:20000]\n",
        "test_images = test_images[:4000]"
      ],
      "metadata": {
        "id": "7eHNFyDsImEO"
      },
      "execution_count": 45,
      "outputs": []
    },
    {
      "cell_type": "code",
      "source": [
        "category_indices_test = []\n",
        "category_indices_train = []\n",
        "\n",
        "category_indices_test += [0 for _ in range(1000)]\n",
        "category_indices_test += [1 for _ in range(1000, 2000)]\n",
        "category_indices_test += [2 for _ in range(2000, 3000)]\n",
        "category_indices_test += [3 for _ in range(3000, 4000)]\n",
        "\n",
        "unique_category_count = 4\n",
        "inputs = tf.one_hot(category_indices_test, unique_category_count, dtype=np.uint8)\n",
        "test_labels = np.array(inputs)\n",
        "\n",
        "category_indices_train += [0 for _ in range(5000)]\n",
        "category_indices_train += [1 for _ in range(5000, 10000)]\n",
        "category_indices_train += [2 for _ in range(10000, 15000)]\n",
        "category_indices_train += [3 for _ in range(15000, 20000)]\n",
        "\n",
        "unique_category_count = 4\n",
        "inputs = tf.one_hot(category_indices_train, unique_category_count, dtype=np.uint8)\n",
        "train_labels = np.array(inputs)"
      ],
      "metadata": {
        "id": "QaWWx9yckLwJ"
      },
      "execution_count": 46,
      "outputs": []
    },
    {
      "cell_type": "code",
      "source": [
        "print(type(test_images))\n",
        "print(test_images.shape)\n",
        "print(type(train_images))\n",
        "print(train_images.shape)\n",
        "print(type(test_labels))\n",
        "print(test_labels.shape)\n",
        "print(type(train_labels))\n",
        "print(train_labels.shape)"
      ],
      "metadata": {
        "colab": {
          "base_uri": "https://localhost:8080/"
        },
        "id": "an5zI4k1S_-M",
        "outputId": "737ca0e1-b780-4f8f-bcb2-a05048d324ce"
      },
      "execution_count": 47,
      "outputs": [
        {
          "output_type": "stream",
          "name": "stdout",
          "text": [
            "<class 'numpy.ndarray'>\n",
            "(4000, 32, 32, 3)\n",
            "<class 'numpy.ndarray'>\n",
            "(20000, 32, 32, 3)\n",
            "<class 'numpy.ndarray'>\n",
            "(4000, 4)\n",
            "<class 'numpy.ndarray'>\n",
            "(20000, 4)\n"
          ]
        }
      ]
    },
    {
      "cell_type": "code",
      "source": [
        "def rgb2gray(rgb): \n",
        " \n",
        "    r, g, b = rgb[:, :, :, 0], rgb[:, :, :,1], rgb[:, :, :, 2]\n",
        "    gray = 0.2989 * r + 0.5870 * g + 0.1140 * b \n",
        " \n",
        "    return gray"
      ],
      "metadata": {
        "id": "Ga3L3lOKZn2k"
      },
      "execution_count": 48,
      "outputs": []
    },
    {
      "cell_type": "code",
      "source": [
        "train_images = rgb2gray(train_images)\n",
        "test_images = rgb2gray(test_images)"
      ],
      "metadata": {
        "id": "3y72YGNebHuv"
      },
      "execution_count": 49,
      "outputs": []
    },
    {
      "cell_type": "code",
      "source": [
        "class_names = ['airplane', 'automobile', 'bird', 'cat']"
      ],
      "metadata": {
        "id": "s0q3Lb9awdig"
      },
      "execution_count": 50,
      "outputs": []
    },
    {
      "cell_type": "code",
      "source": [
        "index = 3\n",
        "plt.imshow(train_images[index])\n",
        "plt.title(class_names[train_labels[index][0]])"
      ],
      "metadata": {
        "colab": {
          "base_uri": "https://localhost:8080/",
          "height": 298
        },
        "id": "CYLFD5TMvTYH",
        "outputId": "04eddb90-56cd-4b8f-ade9-77832db52b77"
      },
      "execution_count": 51,
      "outputs": [
        {
          "output_type": "execute_result",
          "data": {
            "text/plain": [
              "Text(0.5, 1.0, 'automobile')"
            ]
          },
          "metadata": {},
          "execution_count": 51
        },
        {
          "output_type": "display_data",
          "data": {
            "text/plain": [
              "<Figure size 432x288 with 1 Axes>"
            ],
            "image/png": "[encoded data removed]"
          },
          "metadata": {
            "needs_background": "light"
          }
        }
      ]
    },
    {
      "cell_type": "code",
      "source": [
        "train_images, test_images = train_images / 255.0, test_images / 255.0"
      ],
      "metadata": {
        "id": "z6IaGmsG_Ovm"
      },
      "execution_count": 52,
      "outputs": []
    },
    {
      "cell_type": "code",
      "source": [
        "train_images = train_images.reshape(-1, 1024)\n",
        "test_images = test_images.reshape(-1, 1024)"
      ],
      "metadata": {
        "id": "bGSa_TcT-0BX"
      },
      "execution_count": 53,
      "outputs": []
    },
    {
      "cell_type": "code",
      "source": [
        "idx = np.random.permutation(len(train_images))\n",
        "train_images, train_labels = train_images[idx], train_labels[idx]\n",
        "\n",
        "idx = np.random.permutation(len(test_images))\n",
        "test_images, test_labels = test_images[idx], test_labels[idx]"
      ],
      "metadata": {
        "id": "P9hBrhSd_bat"
      },
      "execution_count": 54,
      "outputs": []
    },
    {
      "cell_type": "code",
      "source": [
        "print(train_labels.shape)\n",
        "print(train_images.shape)\n",
        "print(test_labels.shape)\n",
        "print(test_images.shape)"
      ],
      "metadata": {
        "colab": {
          "base_uri": "https://localhost:8080/"
        },
        "id": "UwGpPFHNCjAJ",
        "outputId": "66886128-0bc4-4a95-f780-48f1fd6b5a18"
      },
      "execution_count": 55,
      "outputs": [
        {
          "output_type": "stream",
          "name": "stdout",
          "text": [
            "(20000, 4)\n",
            "(20000, 1024)\n",
            "(4000, 4)\n",
            "(4000, 1024)\n"
          ]
        }
      ]
    },
    {
      "cell_type": "code",
      "source": [
        "W1 = np.random.normal(size=(16, 1024))\n",
        "W2 = np.random.normal(size=(16, 16))\n",
        "W3 = np.random.normal(size=(4, 16))\n",
        "\n",
        "b1 = np.zeros((16, 1))\n",
        "b2 = np.zeros((16, 1))\n",
        "b3 = np.zeros((4, 1))"
      ],
      "metadata": {
        "id": "LEAQm4xTCl45"
      },
      "execution_count": 90,
      "outputs": []
    },
    {
      "cell_type": "code",
      "source": [
        "def sigmoid(x):\n",
        "    return 1 / (1 + pow(np.e, -x))"
      ],
      "metadata": {
        "id": "rapSzLefHZP7"
      },
      "execution_count": 91,
      "outputs": []
    },
    {
      "cell_type": "code",
      "source": [
        "number_of_correct_estimations = 0\n",
        "total_images = 200\n",
        "\n",
        "for i in range (total_images):\n",
        "  a0 = train_images[i].reshape(-1,1)\n",
        "  a1 = sigmoid(W1 @ a0 + b1)\n",
        "  a2 = sigmoid(W2 @ a1 + b2)\n",
        "  a3 = sigmoid(W3 @ a2 + b3)\n",
        "\n",
        "  output = np.argmax(a3)\n",
        "  label = np.argmax(train_labels[i], axis=0)\n",
        "\n",
        "  if(output == label): \n",
        "    number_of_correct_estimations += 1\n",
        "\n",
        "print(f\"Accuracy: {number_of_correct_estimations / total_images}\")"
      ],
      "metadata": {
        "colab": {
          "base_uri": "https://localhost:8080/"
        },
        "id": "nisg-XMZHk0m",
        "outputId": "ac9f9122-6261-4b72-ba9c-5ad403bebe8c"
      },
      "execution_count": 92,
      "outputs": [
        {
          "output_type": "stream",
          "name": "stdout",
          "text": [
            "Accuracy: 0.27\n"
          ]
        }
      ]
    },
    {
      "cell_type": "code",
      "source": [
        "time = datetime.now()\n",
        "total_images = 200\n",
        "epochs_num = 10\n",
        "batch_size = 16\n",
        "learning_rate = 0.3\n",
        "train_set = []\n",
        "test_set = []\n",
        "total_costs = []\n",
        "\n",
        "for i in range(train_labels.T.shape[1]):\n",
        "  train_set.append((train_images.T[:, i].reshape(1024, 1), train_labels.T[:, i].reshape(4, 1)))\n",
        "for i in range(test_labels.T.shape[1]):\n",
        "  test_set.append((test_images[i, :].T.reshape(1024, 1), test_labels[i, :].T.reshape(4, 1)))\n",
        "\n",
        "for epoch in range(epochs_num):\n",
        "    batches = [train_set[x:x+batch_size] for x in range(0, total_images, batch_size)]\n",
        "    for batch in batches:\n",
        "        # allocate weight and bias gradient matrix for each layer\n",
        "        grad_W1 = np.zeros((16, 1024))\n",
        "        grad_W2 = np.zeros((16, 16))\n",
        "        grad_W3 = np.zeros((4, 16))\n",
        "        grad_b1 = np.zeros((16, 1))\n",
        "        grad_b2 = np.zeros((16, 1))\n",
        "        grad_b3 = np.zeros((4, 1))\n",
        "        \n",
        "        for image, label in batch:\n",
        "            a1 = sigmoid(W1 @ image + b1)\n",
        "            a2 = sigmoid(W2 @ a1 + b2)\n",
        "            a3 = sigmoid(W3 @ a2 + b3)\n",
        "            \n",
        "            # ---- Last layer\n",
        "            # computing weight and bias\n",
        "            for j in range(grad_W3.shape[0]):\n",
        "                for k in range(grad_W3.shape[1]):\n",
        "                    grad_W3[j, k] += 2 * (a3[j, 0] - label[j, 0]) * a3[j, 0] * (1 - a3[j, 0]) * a2[k, 0]\n",
        "            \n",
        "            for j in range(grad_b3.shape[0]):\n",
        "                    grad_b3[j, 0] += 2 * (a3[j, 0] - label[j, 0]) * a3[j, 0] * (1 - a3[j, 0])\n",
        "            \n",
        "            # ---- 3rd layer\n",
        "            #  computing activation\n",
        "            delta_3 = np.zeros((16, 1))\n",
        "            for k in range(16):\n",
        "                for j in range(4):\n",
        "                    delta_3[k, 0] += 2 * (a3[j, 0] - label[j, 0]) * a3[j, 0] * (1 - a3[j, 0]) * W3[j, k]\n",
        "            \n",
        "            # computing weight and bias\n",
        "            for k in range(grad_W2.shape[0]):\n",
        "                for m in range(grad_W2.shape[1]):\n",
        "                    grad_W2[k, m] += delta_3[k, 0] * a2[k,0] * (1 - a2[k, 0]) * a1[m, 0]\n",
        "            \n",
        "            for k in range(grad_b2.shape[0]):\n",
        "                    grad_b2[k, 0] += delta_3[k, 0] * a2[k, 0] * (1 - a2[k, 0])\n",
        "                    \n",
        "            # ---- 2nd layer\n",
        "            # computing activation\n",
        "            delta_2 = np.zeros((16, 1))\n",
        "            for m in range(16):\n",
        "                for k in range(16):\n",
        "                    delta_2[m, 0] += delta_3[k, 0] * a2[k, 0] * (1 - a2[k, 0]) * W2[k, m]\n",
        "            \n",
        "            # computing weight and bias\n",
        "            for m in range(grad_W1.shape[0]):\n",
        "                for v in range(grad_W1.shape[1]):\n",
        "                    grad_W1[m, v] += delta_2[m, 0] * a1[m,0] * (1 - a1[m, 0]) * image[v, 0]\n",
        "            for m in range(grad_b1.shape[0]):\n",
        "                    grad_b1[m, 0] += delta_2[m, 0] * a1[m, 0] * (1 - a1[m, 0])\n",
        "        \n",
        "        W3 = W3 - (learning_rate * (grad_W3 / batch_size))\n",
        "        W2 = W2 - (learning_rate * (grad_W2 / batch_size))\n",
        "        W1 = W1 - (learning_rate * (grad_W1 / batch_size))\n",
        "        \n",
        "        b3 = b3 - (learning_rate * (grad_b3 / batch_size))\n",
        "        b2 = b2 - (learning_rate * (grad_b2 / batch_size))\n",
        "        b1 = b1 - (learning_rate * (grad_b1 / batch_size))\n",
        "    \n",
        "     # calculate cost average per epoch\n",
        "    cost = 0\n",
        "    for train_data in train_set[:total_images]:\n",
        "        a0 = train_data[0]\n",
        "        a1 = sigmoid(W1 @ a0 + b1)\n",
        "        a2 = sigmoid(W2 @ a1 + b2)\n",
        "        a3 = sigmoid(W3 @ a2 + b3)\n",
        "\n",
        "        for j in range(4):\n",
        "            cost += np.power((a3[j, 0] - train_data[1][j,  0]), 2)\n",
        "            \n",
        "    cost /= total_images\n",
        "    total_costs.append(cost) "
      ],
      "metadata": {
        "id": "8rLecTQZdn_L"
      },
      "execution_count": 96,
      "outputs": []
    },
    {
      "cell_type": "code",
      "source": [
        "epoch_size = [x for x in range(epochs_num)]\n",
        "plt.plot(epoch_size, total_costs)\n",
        "number_of_correct_estimations = 0\n",
        "for train_data in train_set[:total_images]:\n",
        "    a0 = train_data[0]\n",
        "    a1 = sigmoid(W1 @ a0 + b1)\n",
        "    a2 = sigmoid(W2 @ a1 + b2)\n",
        "    a3 = sigmoid(W3 @ a2 + b3)\n",
        "    \n",
        "    predicted_number = np.where(a3 == np.amax(a3))\n",
        "    real_number = np.where(train_data[1] == np.amax(train_data[1]))\n",
        "    \n",
        "    if predicted_number == real_number:\n",
        "        number_of_correct_estimations += 1\n",
        "        \n",
        "print(f\"Accuracy: {number_of_correct_estimations / total_images}\")\n",
        "end_time = datetime.now()\n",
        "print('backpropagation time: {}'.format(end_time - time))"
      ],
      "metadata": {
        "colab": {
          "base_uri": "https://localhost:8080/",
          "height": 465
        },
        "id": "wAnlYmnHjNa0",
        "outputId": "196a3cea-f28c-4256-c774-cf5ec5eb4802"
      },
      "execution_count": 104,
      "outputs": [
        {
          "output_type": "stream",
          "name": "stdout",
          "text": [
            "Accuracy: 0.42\n"
          ]
        },
        {
          "output_type": "error",
          "ename": "TypeError",
          "evalue": "ignored",
          "traceback": [
            "\u001b[0;31m---------------------------------------------------------------------------\u001b[0m",
            "\u001b[0;31mTypeError\u001b[0m                                 Traceback (most recent call last)",
            "\u001b[0;32m<ipython-input-104-769cd3aeeb0a>\u001b[0m in \u001b[0;36m<module>\u001b[0;34m()\u001b[0m\n\u001b[1;32m     16\u001b[0m \u001b[0mprint\u001b[0m\u001b[0;34m(\u001b[0m\u001b[0;34mf\"Accuracy: {number_of_correct_estimations / total_images}\"\u001b[0m\u001b[0;34m)\u001b[0m\u001b[0;34m\u001b[0m\u001b[0;34m\u001b[0m\u001b[0m\n\u001b[1;32m     17\u001b[0m \u001b[0mend_time\u001b[0m \u001b[0;34m=\u001b[0m \u001b[0mdatetime\u001b[0m\u001b[0;34m.\u001b[0m\u001b[0mnow\u001b[0m\u001b[0;34m(\u001b[0m\u001b[0;34m)\u001b[0m\u001b[0;34m\u001b[0m\u001b[0;34m\u001b[0m\u001b[0m\n\u001b[0;32m---> 18\u001b[0;31m \u001b[0mprint\u001b[0m\u001b[0;34m(\u001b[0m\u001b[0;34m'backpropagation time: {}'\u001b[0m\u001b[0;34m.\u001b[0m\u001b[0mformat\u001b[0m\u001b[0;34m(\u001b[0m\u001b[0mend_time\u001b[0m \u001b[0;34m-\u001b[0m \u001b[0mtime\u001b[0m\u001b[0;34m)\u001b[0m\u001b[0;34m)\u001b[0m\u001b[0;34m\u001b[0m\u001b[0;34m\u001b[0m\u001b[0m\n\u001b[0m",
            "\u001b[0;31mTypeError\u001b[0m: unsupported operand type(s) for -: 'datetime.datetime' and 'str'"
          ]
        },
        {
          "output_type": "display_data",
          "data": {
            "text/plain": [
              "<Figure size 432x288 with 1 Axes>"
            ],
            "image/png": "[encoded data removed]"
          },
          "metadata": {
            "needs_background": "light"
          }
        }
      ]
    },
    {
      "cell_type": "code",
      "source": [
        "time = datetime.now()\n",
        "total_images = 200\n",
        "epochs_num = 20\n",
        "batch_size = 16\n",
        "learning_rate = 0.3\n",
        "train_set = []\n",
        "test_set = []\n",
        "total_costs = []\n",
        "\n",
        "for i in range(train_labels.T.shape[1]):\n",
        "  train_set.append((train_images.T[:, i].reshape(1024, 1), train_labels.T[:, i].reshape(4, 1)))\n",
        "for i in range(test_labels.T.shape[1]):\n",
        "  test_set.append((test_images[i, :].T.reshape(1024, 1), test_labels[i, :].T.reshape(4, 1)))\n",
        "\n",
        "#10 iretaion\n",
        "for i in range(10):\n",
        "  batches = [train_set[x:x+batch_size] for x in range(0, total_images, batch_size)]\n",
        "  for epoch in range(epochs_num):\n",
        "      for batch in batches:\n",
        "          # allocate weight and bias gradient matrix for each layer\n",
        "          grad_W1 = np.zeros((16, 1024))\n",
        "          grad_W2 = np.zeros((16, 16))\n",
        "          grad_W3 = np.zeros((4, 16))\n",
        "          grad_b1 = np.zeros((16, 1))\n",
        "          grad_b2 = np.zeros((16, 1))\n",
        "          grad_b3 = np.zeros((4, 1))\n",
        "          \n",
        "          for image, label in batch:\n",
        "              a1 = sigmoid(W1 @ image + b1)\n",
        "              a2 = sigmoid(W2 @ a1 + b2)\n",
        "              a3 = sigmoid(W3 @ a2 + b3)\n",
        "              \n",
        "              # ---- Last layer\n",
        "              # weight\n",
        "              grad_W3 += (2 * (a3 - label) * a3 * (1 - a3)) @ np.transpose(a2)\n",
        "              \n",
        "              # bias\n",
        "              grad_b3 += 2 * (a3 - label) * a3 * (1 - a3)\n",
        "              \n",
        "              # ---- 3rd layer\n",
        "              # activation\n",
        "              delta_3 = np.zeros((16, 1))\n",
        "              delta_3 += np.transpose(W3) @ (2 *(a3 - label) * (a3 * (1 - a3)))\n",
        "              \n",
        "              # weight\n",
        "              grad_W2 += (a2 * (1 - a2) * delta_3) @ np.transpose(a1)\n",
        "              \n",
        "              # bias\n",
        "              grad_b2 += delta_3 * a2 * (1 - a2)\n",
        "                      \n",
        "              # ---- 2nd layer\n",
        "              # activation\n",
        "              delta_2 = np.zeros((16, 1))\n",
        "              delta_2 += np.transpose(W2) @ delta_3 * a2 * (1 - a2)\n",
        "              \n",
        "              # weight\n",
        "              grad_W1 += (delta_2 * a1 * (1 - a1)) @ np.transpose(image)\n",
        "                      \n",
        "              # bias\n",
        "              grad_b1 += delta_2 * a1 * (1 - a1)\n",
        "          \n",
        "          W3 = W3 - (learning_rate * (grad_W3 / batch_size))\n",
        "          W2 = W2 - (learning_rate * (grad_W2 / batch_size))\n",
        "          W1 = W1 - (learning_rate * (grad_W1 / batch_size))\n",
        "          \n",
        "          b3 = b3 - (learning_rate * (grad_b3 / batch_size))\n",
        "          b2 = b2 - (learning_rate * (grad_b2 / batch_size))\n",
        "          b1 = b1 - (learning_rate * (grad_b1 / batch_size))\n",
        "      \n",
        "      # calculate cost average per epoch\n",
        "      cost = 0\n",
        "      for train_data in train_set[:total_images]:\n",
        "          a0 = train_data[0]\n",
        "          a1 = sigmoid(W1 @ a0 + b1)\n",
        "          a2 = sigmoid(W2 @ a1 + b2)\n",
        "          a3 = sigmoid(W3 @ a2 + b3)\n",
        "\n",
        "          for j in range(4):\n",
        "              cost += np.power((a3[j, 0] - train_data[1][j,  0]), 2)\n",
        "              \n",
        "      cost /= total_images\n",
        "      total_costs.append(cost)"
      ],
      "metadata": {
        "id": "nNUTklvNH4Ps"
      },
      "execution_count": 113,
      "outputs": []
    },
    {
      "cell_type": "code",
      "source": [
        "epoch_size = [x for x in range(10*epochs_num)]\n",
        "plt.plot(epoch_size, total_costs)\n",
        "number_of_correct_estimations = 0\n",
        "for train_data in train_set[:total_images]:\n",
        "    a0 = train_data[0]\n",
        "    a1 = sigmoid(W1 @ a0 + b1)\n",
        "    a2 = sigmoid(W2 @ a1 + b2)\n",
        "    a3 = sigmoid(W3 @ a2 + b3)\n",
        "    \n",
        "    predicted_number = np.where(a3 == np.amax(a3))\n",
        "    real_number = np.where(train_data[1] == np.amax(train_data[1]))\n",
        "    \n",
        "    if predicted_number == real_number:\n",
        "        number_of_correct_estimations += 1\n",
        "        \n",
        "print(f\"Accuracy: {number_of_correct_estimations / total_images}\")\n",
        "end_time = datetime.now()\n",
        "print('backpropagation time: {}'.format(end_time - time))"
      ],
      "metadata": {
        "colab": {
          "base_uri": "https://localhost:8080/",
          "height": 300
        },
        "id": "al-dFXilLMI7",
        "outputId": "be8f1895-8fba-49e6-92dd-a63ed8ccb5dd"
      },
      "execution_count": 114,
      "outputs": [
        {
          "output_type": "stream",
          "name": "stdout",
          "text": [
            "Accuracy: 0.73\n",
            "backpropagation time: 0:00:31.049182\n"
          ]
        },
        {
          "output_type": "display_data",
          "data": {
            "text/plain": [
              "<Figure size 432x288 with 1 Axes>"
            ],
            "image/png": "[encoded data removed]"
          },
          "metadata": {
            "needs_background": "light"
          }
        }
      ]
    },
    {
      "cell_type": "code",
      "source": [
        "total_images = 8000\n",
        "epochs_num = 40\n",
        "batch_size = 16\n",
        "learning_rate = 0.3\n",
        "train_set = []\n",
        "test_set = []\n",
        "total_costs = []\n",
        "\n",
        "for i in range(train_labels.T.shape[1]):\n",
        "  train_set.append((train_images.T[:, i].reshape(1024, 1), train_labels.T[:, i].reshape(4, 1)))\n",
        "for i in range(test_labels.T.shape[1]):\n",
        "  test_set.append((test_images[i, :].T.reshape(1024, 1), test_labels[i, :].T.reshape(4, 1)))\n",
        "\n",
        "for i in range(10):\n",
        "  for epoch in range(epochs_num):\n",
        "      batches = [train_set[x:x+batch_size] for x in range(0, total_images, batch_size)]\n",
        "      for batch in batches:\n",
        "          # allocate weight and bias gradient matrix for each layer\n",
        "          grad_W1 = np.zeros((16, 1024))\n",
        "          grad_W2 = np.zeros((16, 16))\n",
        "          grad_W3 = np.zeros((4, 16))\n",
        "          grad_b1 = np.zeros((16, 1))\n",
        "          grad_b2 = np.zeros((16, 1))\n",
        "          grad_b3 = np.zeros((4, 1))\n",
        "          \n",
        "          for image, label in batch:\n",
        "              a1 = sigmoid(W1 @ image + b1)\n",
        "              a2 = sigmoid(W2 @ a1 + b2)\n",
        "              a3 = sigmoid(W3 @ a2 + b3)\n",
        "              \n",
        "              # ---- Last layer\n",
        "              # weight\n",
        "              grad_W3 += (2 * (a3 - label) * a3 * (1 - a3)) @ np.transpose(a2)\n",
        "              \n",
        "              # bias\n",
        "              grad_b3 += 2 * (a3 - label) * a3 * (1 - a3)\n",
        "              \n",
        "              # ---- 3rd layer\n",
        "              # activation\n",
        "              delta_3 = np.zeros((16, 1))\n",
        "              delta_3 += np.transpose(W3) @ (2 *(a3 - label) * (a3 * (1 - a3)))\n",
        "              \n",
        "              # weight\n",
        "              grad_W2 += (a2 * (1 - a2) * delta_3) @ np.transpose(a1)\n",
        "              \n",
        "              # bias\n",
        "              grad_b2 += delta_3 * a2 * (1 - a2)\n",
        "                      \n",
        "              # ---- 2nd layer\n",
        "              # activation\n",
        "              delta_2 = np.zeros((16, 1))\n",
        "              delta_2 += np.transpose(W2) @ delta_3 * a2 * (1 - a2)\n",
        "              \n",
        "              # weight\n",
        "              grad_W1 += (delta_2 * a1 * (1 - a1)) @ np.transpose(image)\n",
        "                      \n",
        "              # bias\n",
        "              grad_b1 += delta_2 * a1 * (1 - a1)\n",
        "          \n",
        "          W3 = W3 - (learning_rate * (grad_W3 / batch_size))\n",
        "          W2 = W2 - (learning_rate * (grad_W2 / batch_size))\n",
        "          W1 = W1 - (learning_rate * (grad_W1 / batch_size))\n",
        "          \n",
        "          b3 = b3 - (learning_rate * (grad_b3 / batch_size))\n",
        "          b2 = b2 - (learning_rate * (grad_b2 / batch_size))\n",
        "          b1 = b1 - (learning_rate * (grad_b1 / batch_size))\n",
        "      \n",
        "      # calculate cost average per epoch\n",
        "      cost = 0\n",
        "      for train_data in train_set:\n",
        "          a0 = train_data[0]\n",
        "          a1 = sigmoid(W1 @ a0 + b1)\n",
        "          a2 = sigmoid(W2 @ a1 + b2)\n",
        "          a3 = sigmoid(W3 @ a2 + b3)\n",
        "\n",
        "          for j in range(4):\n",
        "              cost += np.power((a3[j, 0] - train_data[1][j,  0]), 2)\n",
        "              \n",
        "      cost /= total_images\n",
        "      total_costs.append(cost)"
      ],
      "metadata": {
        "colab": {
          "base_uri": "https://localhost:8080/",
          "height": 234
        },
        "id": "5-NlXjyaOxaI",
        "outputId": "a424e167-363f-4b93-bf50-c57f15bd8b54"
      },
      "execution_count": 121,
      "outputs": [
        {
          "output_type": "error",
          "ename": "KeyboardInterrupt",
          "evalue": "ignored",
          "traceback": [
            "\u001b[0;31m---------------------------------------------------------------------------\u001b[0m",
            "\u001b[0;31mKeyboardInterrupt\u001b[0m                         Traceback (most recent call last)",
            "\u001b[0;32m<ipython-input-121-19d109937b94>\u001b[0m in \u001b[0;36m<module>\u001b[0;34m()\u001b[0m\n\u001b[1;32m     70\u001b[0m       \u001b[0;32mfor\u001b[0m \u001b[0mtrain_data\u001b[0m \u001b[0;32min\u001b[0m \u001b[0mtrain_set\u001b[0m\u001b[0;34m:\u001b[0m\u001b[0;34m\u001b[0m\u001b[0;34m\u001b[0m\u001b[0m\n\u001b[1;32m     71\u001b[0m           \u001b[0ma0\u001b[0m \u001b[0;34m=\u001b[0m \u001b[0mtrain_data\u001b[0m\u001b[0;34m[\u001b[0m\u001b[0;36m0\u001b[0m\u001b[0;34m]\u001b[0m\u001b[0;34m\u001b[0m\u001b[0;34m\u001b[0m\u001b[0m\n\u001b[0;32m---> 72\u001b[0;31m           \u001b[0ma1\u001b[0m \u001b[0;34m=\u001b[0m \u001b[0msigmoid\u001b[0m\u001b[0;34m(\u001b[0m\u001b[0mW1\u001b[0m \u001b[0;34m@\u001b[0m \u001b[0ma0\u001b[0m \u001b[0;34m+\u001b[0m \u001b[0mb1\u001b[0m\u001b[0;34m)\u001b[0m\u001b[0;34m\u001b[0m\u001b[0;34m\u001b[0m\u001b[0m\n\u001b[0m\u001b[1;32m     73\u001b[0m           \u001b[0ma2\u001b[0m \u001b[0;34m=\u001b[0m \u001b[0msigmoid\u001b[0m\u001b[0;34m(\u001b[0m\u001b[0mW2\u001b[0m \u001b[0;34m@\u001b[0m \u001b[0ma1\u001b[0m \u001b[0;34m+\u001b[0m \u001b[0mb2\u001b[0m\u001b[0;34m)\u001b[0m\u001b[0;34m\u001b[0m\u001b[0;34m\u001b[0m\u001b[0m\n\u001b[1;32m     74\u001b[0m           \u001b[0ma3\u001b[0m \u001b[0;34m=\u001b[0m \u001b[0msigmoid\u001b[0m\u001b[0;34m(\u001b[0m\u001b[0mW3\u001b[0m \u001b[0;34m@\u001b[0m \u001b[0ma2\u001b[0m \u001b[0;34m+\u001b[0m \u001b[0mb3\u001b[0m\u001b[0;34m)\u001b[0m\u001b[0;34m\u001b[0m\u001b[0;34m\u001b[0m\u001b[0m\n",
            "\u001b[0;31mKeyboardInterrupt\u001b[0m: "
          ]
        }
      ]
    },
    {
      "cell_type": "code",
      "source": [
        "epoch_size = [x for x in range(10*epochs_num)]\n",
        "plt.plot(epoch_size, total_costs)\n",
        "number_of_correct_estimations = 0\n",
        "for test_data in test_set:\n",
        "    a0 = test_data[0]\n",
        "    a1 = sigmoid(W1 @ a0 + b1)\n",
        "    a2 = sigmoid(W2 @ a1 + b2)\n",
        "    a3 = sigmoid(W3 @ a2 + b3)\n",
        "    \n",
        "    predicted_number = np.where(a3 == np.amax(a3))\n",
        "    real_number = np.where(test_data[1] == np.amax(test_data[1]))\n",
        "    \n",
        "    if predicted_number == real_number:\n",
        "        number_of_correct_estimations += 1\n",
        "        \n",
        "print(f\"Accuracy: {number_of_correct_estimations / total_images}\")"
      ],
      "metadata": {
        "colab": {
          "base_uri": "https://localhost:8080/",
          "height": 282
        },
        "id": "3aH80l80R5kv",
        "outputId": "84d192ba-3459-412d-adf6-802ccb1e815a"
      },
      "execution_count": 119,
      "outputs": [
        {
          "output_type": "stream",
          "name": "stdout",
          "text": [
            "Accuracy: 0.123375\n"
          ]
        },
        {
          "output_type": "display_data",
          "data": {
            "text/plain": [
              "<Figure size 432x288 with 1 Axes>"
            ],
            "image/png": "[encoded data removed]"
          },
          "metadata": {
            "needs_background": "light"
          }
        }
      ]
    }
  ]
}