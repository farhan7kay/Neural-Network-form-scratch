{
  "nbformat": 4,
  "nbformat_minor": 0,
  "metadata": {
    "colab": {
      "name": "Untitled1.ipynb",
      "provenance": []
    },
    "kernelspec": {
      "name": "python3",
      "display_name": "Python 3"
    },
    "language_info": {
      "name": "python"
    }
  },
  "cells": [
    {
      "cell_type": "code",
      "execution_count": 1,
      "metadata": {
        "colab": {
          "base_uri": "https://localhost:8080/"
        },
        "id": "Msw2Mc-2fqNH",
        "outputId": "0d2ab3b1-23b2-4887-831c-76fde9e275b5"
      },
      "outputs": [
        {
          "output_type": "stream",
          "name": "stdout",
          "text": [
            "/usr/local/lib/python3.7/dist-packages/gdown/cli.py:131: FutureWarning: Option `--id` was deprecated in version 4.3.1 and will be removed in 5.0. You don't need to pass it anymore to use a file ID.\n",
            "  category=FutureWarning,\n",
            "Downloading...\n",
            "From: https://drive.google.com/uc?id=1Y1vgzPvMeVcXSxDfOlCVia7wsU7p8M6g\n",
            "To: /content/CIFAR10.tar.gz\n",
            "100% 19.8M/19.8M [00:00<00:00, 107MB/s] \n"
          ]
        }
      ],
      "source": [
        "!gdown --id 1Y1vgzPvMeVcXSxDfOlCVia7wsU7p8M6g -O CIFAR10.tar.gz \n",
        "!tar xzf CIFAR10.tar.gz"
      ]
    },
    {
      "cell_type": "code",
      "source": [
        "from tensorflow import keras\n",
        "from keras import datasets, layers, losses\n",
        "import numpy as np\n",
        "import matplotlib.pyplot as plt"
      ],
      "metadata": {
        "id": "z-2KgzD1fwS5"
      },
      "execution_count": 2,
      "outputs": []
    },
    {
      "cell_type": "code",
      "source": [
        "(train_images, train_labels), (test_images, test_labels) = datasets.cifar10.load_data()"
      ],
      "metadata": {
        "colab": {
          "base_uri": "https://localhost:8080/"
        },
        "id": "qvJRbT_kgQ4b",
        "outputId": "5ef5eeee-2069-40b9-99d6-a01ae63e9953"
      },
      "execution_count": 3,
      "outputs": [
        {
          "output_type": "stream",
          "name": "stdout",
          "text": [
            "Downloading data from https://www.cs.toronto.edu/~kriz/cifar-10-python.tar.gz\n",
            "170500096/170498071 [==============================] - 3s 0us/step\n",
            "170508288/170498071 [==============================] - 3s 0us/step\n"
          ]
        }
      ]
    },
    {
      "cell_type": "code",
      "source": [
        "model = keras.Sequential([\n",
        "                          \n",
        "    layers.Conv2D(32, (3, 3), padding='same', kernel_initializer='he_uniform', activation='relu', input_shape=(32, 32, 3)),\n",
        "    layers.Conv2D(32, (3, 3), padding='same', kernel_initializer='he_uniform', activation='relu'),\n",
        "    layers.MaxPool2D((2, 2)),\n",
        "    layers.Dropout(0.25),\n",
        "\n",
        "    layers.Conv2D(64, (3, 3), padding='same', kernel_initializer='he_uniform', activation='relu'),\n",
        "    layers.Conv2D(64, (3, 3), padding='same', kernel_initializer='he_uniform', activation='relu'),\n",
        "    layers.MaxPool2D((2, 2)),\n",
        "    layers.Dropout(0.25),\n",
        "\n",
        "    layers.Conv2D(128, (3, 3), padding='same', kernel_initializer='he_uniform', activation='relu'),\n",
        "    layers.Conv2D(128, (3, 3), padding='same', kernel_initializer='he_uniform', activation='relu'),\n",
        "    layers.MaxPool2D((2, 2)),\n",
        "    layers.Dropout(0.25),\n",
        "\n",
        "    layers.Flatten(),\n",
        "    layers.Dense(128, kernel_initializer='he_uniform', activation='relu'),\n",
        "    layers.Dropout(0.25),\n",
        "    layers.Dense(10, kernel_initializer='he_uniform', activation='softmax')\n",
        "\n",
        "])"
      ],
      "metadata": {
        "id": "HFNz8M0TgXeP"
      },
      "execution_count": 4,
      "outputs": []
    },
    {
      "cell_type": "code",
      "source": [
        "model.summary()"
      ],
      "metadata": {
        "colab": {
          "base_uri": "https://localhost:8080/"
        },
        "id": "vGrImgiCgzAW",
        "outputId": "b22ca8a7-fc87-4793-fcd4-45e4bb003b3c"
      },
      "execution_count": 5,
      "outputs": [
        {
          "output_type": "stream",
          "name": "stdout",
          "text": [
            "Model: \"sequential\"\n",
            "_________________________________________________________________\n",
            " Layer (type)                Output Shape              Param #   \n",
            "=================================================================\n",
            " conv2d (Conv2D)             (None, 32, 32, 32)        896       \n",
            "                                                                 \n",
            " conv2d_1 (Conv2D)           (None, 32, 32, 32)        9248      \n",
            "                                                                 \n",
            " max_pooling2d (MaxPooling2D  (None, 16, 16, 32)       0         \n",
            " )                                                               \n",
            "                                                                 \n",
            " dropout (Dropout)           (None, 16, 16, 32)        0         \n",
            "                                                                 \n",
            " conv2d_2 (Conv2D)           (None, 16, 16, 64)        18496     \n",
            "                                                                 \n",
            " conv2d_3 (Conv2D)           (None, 16, 16, 64)        36928     \n",
            "                                                                 \n",
            " max_pooling2d_1 (MaxPooling  (None, 8, 8, 64)         0         \n",
            " 2D)                                                             \n",
            "                                                                 \n",
            " dropout_1 (Dropout)         (None, 8, 8, 64)          0         \n",
            "                                                                 \n",
            " conv2d_4 (Conv2D)           (None, 8, 8, 128)         73856     \n",
            "                                                                 \n",
            " conv2d_5 (Conv2D)           (None, 8, 8, 128)         147584    \n",
            "                                                                 \n",
            " max_pooling2d_2 (MaxPooling  (None, 4, 4, 128)        0         \n",
            " 2D)                                                             \n",
            "                                                                 \n",
            " dropout_2 (Dropout)         (None, 4, 4, 128)         0         \n",
            "                                                                 \n",
            " flatten (Flatten)           (None, 2048)              0         \n",
            "                                                                 \n",
            " dense (Dense)               (None, 128)               262272    \n",
            "                                                                 \n",
            " dropout_3 (Dropout)         (None, 128)               0         \n",
            "                                                                 \n",
            " dense_1 (Dense)             (None, 10)                1290      \n",
            "                                                                 \n",
            "=================================================================\n",
            "Total params: 550,570\n",
            "Trainable params: 550,570\n",
            "Non-trainable params: 0\n",
            "_________________________________________________________________\n"
          ]
        }
      ]
    },
    {
      "cell_type": "code",
      "source": [
        "model.compile(optimizer='adam', loss=losses.SparseCategoricalCrossentropy(), metrics=['accuracy'])"
      ],
      "metadata": {
        "id": "4OLJ3WPig2Am"
      },
      "execution_count": 6,
      "outputs": []
    },
    {
      "cell_type": "code",
      "source": [
        "history = model.fit(train_images, train_labels, batch_size=50, epochs=25, validation_data=(test_images, test_labels))"
      ],
      "metadata": {
        "colab": {
          "base_uri": "https://localhost:8080/"
        },
        "id": "6PrO7H7shGPe",
        "outputId": "ff05059f-28c0-41e5-f68c-56729dcb0e14"
      },
      "execution_count": 8,
      "outputs": [
        {
          "output_type": "stream",
          "name": "stdout",
          "text": [
            "Epoch 1/25\n",
            "1000/1000 [==============================] - 375s 375ms/step - loss: 2.3031 - accuracy: 0.0994 - val_loss: 2.3026 - val_accuracy: 0.1000\n",
            "Epoch 2/25\n",
            "1000/1000 [==============================] - 375s 375ms/step - loss: 2.3033 - accuracy: 0.0947 - val_loss: 2.3026 - val_accuracy: 0.1000\n",
            "Epoch 3/25\n",
            "1000/1000 [==============================] - 377s 377ms/step - loss: 2.3029 - accuracy: 0.0984 - val_loss: 2.3026 - val_accuracy: 0.1000\n",
            "Epoch 4/25\n",
            "1000/1000 [==============================] - 377s 377ms/step - loss: 2.3028 - accuracy: 0.0970 - val_loss: 2.3026 - val_accuracy: 0.1000\n",
            "Epoch 5/25\n",
            "1000/1000 [==============================] - 378s 378ms/step - loss: 2.3038 - accuracy: 0.0971 - val_loss: 2.3026 - val_accuracy: 0.1000\n",
            "Epoch 6/25\n",
            "1000/1000 [==============================] - 377s 377ms/step - loss: 2.3028 - accuracy: 0.0988 - val_loss: 2.3026 - val_accuracy: 0.1000\n",
            "Epoch 7/25\n",
            "1000/1000 [==============================] - 377s 377ms/step - loss: 2.3028 - accuracy: 0.0999 - val_loss: 2.3026 - val_accuracy: 0.1000\n",
            "Epoch 8/25\n",
            "1000/1000 [==============================] - 377s 377ms/step - loss: 2.3028 - accuracy: 0.0974 - val_loss: 2.3026 - val_accuracy: 0.1000\n",
            "Epoch 9/25\n",
            "1000/1000 [==============================] - 378s 378ms/step - loss: 2.3661 - accuracy: 0.1004 - val_loss: 2.3026 - val_accuracy: 0.1000\n",
            "Epoch 10/25\n",
            "1000/1000 [==============================] - 379s 379ms/step - loss: 2.3309 - accuracy: 0.0978 - val_loss: 2.3026 - val_accuracy: 0.1000\n",
            "Epoch 11/25\n",
            "1000/1000 [==============================] - 379s 379ms/step - loss: 2.3100 - accuracy: 0.0963 - val_loss: 2.3026 - val_accuracy: 0.1000\n",
            "Epoch 12/25\n",
            "1000/1000 [==============================] - 379s 379ms/step - loss: 2.3139 - accuracy: 0.0960 - val_loss: 2.3026 - val_accuracy: 0.1000\n",
            "Epoch 13/25\n",
            "1000/1000 [==============================] - 379s 379ms/step - loss: 2.4902 - accuracy: 0.0978 - val_loss: 2.3026 - val_accuracy: 0.1000\n",
            "Epoch 14/25\n",
            "1000/1000 [==============================] - 379s 379ms/step - loss: 2.3028 - accuracy: 0.0976 - val_loss: 2.3026 - val_accuracy: 0.1000\n",
            "Epoch 15/25\n",
            "1000/1000 [==============================] - 379s 379ms/step - loss: 2.7890 - accuracy: 0.0963 - val_loss: 2.3026 - val_accuracy: 0.1000\n",
            "Epoch 16/25\n",
            "1000/1000 [==============================] - 380s 380ms/step - loss: 2.6226 - accuracy: 0.0992 - val_loss: 2.3026 - val_accuracy: 0.1000\n",
            "Epoch 17/25\n",
            "1000/1000 [==============================] - 381s 381ms/step - loss: 2.3027 - accuracy: 0.1011 - val_loss: 2.3026 - val_accuracy: 0.1000\n",
            "Epoch 18/25\n",
            "1000/1000 [==============================] - 381s 382ms/step - loss: 2.3028 - accuracy: 0.0991 - val_loss: 2.3026 - val_accuracy: 0.1000\n",
            "Epoch 19/25\n",
            "1000/1000 [==============================] - 380s 380ms/step - loss: 2.3028 - accuracy: 0.0985 - val_loss: 2.3026 - val_accuracy: 0.1000\n",
            "Epoch 20/25\n",
            "1000/1000 [==============================] - 379s 379ms/step - loss: 2.3799 - accuracy: 0.0982 - val_loss: 2.3026 - val_accuracy: 0.1000\n",
            "Epoch 21/25\n",
            "1000/1000 [==============================] - 378s 378ms/step - loss: 3.3731 - accuracy: 0.0970 - val_loss: 2.3026 - val_accuracy: 0.1000\n",
            "Epoch 22/25\n",
            "1000/1000 [==============================] - 379s 379ms/step - loss: 6.9989 - accuracy: 0.0978 - val_loss: 2.3026 - val_accuracy: 0.1000\n",
            "Epoch 23/25\n",
            "1000/1000 [==============================] - 379s 379ms/step - loss: 2.3028 - accuracy: 0.0974 - val_loss: 2.3026 - val_accuracy: 0.1000\n",
            "Epoch 24/25\n",
            "1000/1000 [==============================] - 378s 378ms/step - loss: 2.3028 - accuracy: 0.0976 - val_loss: 2.3026 - val_accuracy: 0.1000\n",
            "Epoch 25/25\n",
            "1000/1000 [==============================] - 383s 383ms/step - loss: 2.3554 - accuracy: 0.0985 - val_loss: 2.3026 - val_accuracy: 0.1000\n"
          ]
        }
      ]
    },
    {
      "cell_type": "code",
      "source": [
        "plt.plot(history.history['accuracy'], label='train accuracy')\n",
        "plt.plot(history.history['val_accuracy'], label='validation accuracy')\n",
        "plt.ylim([0.5, 1])\n",
        "plt.legend(loc='lower right')"
      ],
      "metadata": {
        "colab": {
          "base_uri": "https://localhost:8080/",
          "height": 286
        },
        "id": "B9WOAUGOFKap",
        "outputId": "82be182b-82d6-4f63-eae9-2396a3244095"
      },
      "execution_count": 15,
      "outputs": [
        {
          "output_type": "execute_result",
          "data": {
            "text/plain": [
              "<matplotlib.legend.Legend at 0x7f9fe60a8c10>"
            ]
          },
          "metadata": {},
          "execution_count": 15
        },
        {
          "output_type": "display_data",
          "data": {
            "text/plain": [
              "<Figure size 432x288 with 1 Axes>"
            ],
            "image/png": "[encoded data removed]"
          },
          "metadata": {
            "needs_background": "light"
          }
        }
      ]
    }
  ]
}